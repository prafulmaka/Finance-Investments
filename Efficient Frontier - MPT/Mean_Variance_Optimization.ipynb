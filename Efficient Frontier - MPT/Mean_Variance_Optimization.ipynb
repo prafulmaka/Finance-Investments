
%matplotlib inline
import pandas as pd
import numpy as np
from numpy.random import random, uniform, dirichlet, choice
from numpy.linalg import inv
from scipy.optimize import minimize
import pandas_datareader.data as web
import matplotlib.pyplot as plt
from matplotlib.ticker import FuncFormatter
import seaborn as sns

import warnings
warnings.filterwarnings('ignore')

sns.set_style('whitegrid')
np.random.seed(42)

cmap = sns.diverging_palette(10, 240, n=9, as_cmap=True)

# Wikipedia Stock Data
with pd.HDFStore('assets.h5') as store:
    sp500_stocks = store['sp500/stocks']

sp500_stocks.head()
